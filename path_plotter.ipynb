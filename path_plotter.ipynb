{
  "cells": [
    {
      "cell_type": "code",
      "execution_count": 39,
      "outputs": [
        {
          "name": "stdout",
          "text": [
            "Start.\nStop\n"
          ],
          "output_type": "stream"
        }
      ],
      "source": "import glob\nimport os\nimport sys\nimport pandas as pd\nimport networkx as nx\n\ntry:\n    sys.path.append(glob.glob(\u0027**/carla/dist/carla-*%d.%d-%s.egg\u0027 % (\n        sys.version_info.major,\n        sys.version_info.minor,\n        \u0027win-amd64\u0027 if os.name \u003d\u003d \u0027nt\u0027 else \u0027linux-x86_64\u0027))[0])\nexcept IndexError:\n    print(\"Can\u0027t find CARLA\")\n    exit(0)\n\nimport carla\n\nself \u003d \u0027\u0027\n\ndef __init__(self):\n    client \u003d carla.Client(\u0027localhost\u0027, 2000)\n    client.set_timeout(2.0)\n\n    self.world \u003d client.get_world()\n    self.map \u003d self.world.get_map()\n    self.adjacency, self.waypoints \u003d self.create_graph_and_matrix()\n\ndef create_graph_and_matrix(self):\n    topology \u003d self.map.get_topology()\n    adjacency \u003d nx.DiGraph()\n    waypoints \u003d pd.DataFrame(columns\u003d[\u0027id\u0027, \u0027location\u0027, \u0027rotation\u0027])\n\n    for edge in topology:\n        start \u003d edge[0]\n        end \u003d edge[1]\n        distance \u003d start.transform.location.distance(end.transform.location)\n        adjacency.add_weighted_edges_from([(start.id, end.id, distance)])\n\n        if start.id not in waypoints[\u0027id\u0027].values:\n            waypoints \u003d waypoints.append({\u0027id\u0027: start.id,\n                                          \u0027transform\u0027: start.transform},\n                                         ignore_index\u003dTrue)\n\n        if end.id not in waypoints[\u0027id\u0027].values:\n            waypoints \u003d waypoints.append({\u0027id\u0027: end.id,\n                                          \u0027transform\u0027: start.transform},\n                                         ignore_index\u003dTrue)\n    return adjacency, waypoints\n\n# Use map topology to create a high level plan for the route\ndef find_path(self, adjacency, waypoints, start, end):\n    route \u003d nx.dijkstra_path(adjacency, start, end)\n\n    start \u003d waypoints[waypoints.id \u003d\u003d start].location.values[0]\n    end \u003d waypoints[waypoints.id \u003d\u003d end].location.values[0]\n    self.world.debug.draw_string(start, \u0027START\u0027, color\u003dcarla.Color(r\u003d0, g\u003d255, b\u003d255), life_time\u003d10.0)\n    self.world.debug.draw_string(end, \u0027END\u0027, color\u003dcarla.Color(r\u003d0, g\u003d255, b\u003d255), life_time\u003d10.0)\n\n    for index in route:\n        location \u003d waypoints[waypoints.id \u003d\u003d index].location.values[0]\n        print(location)\n        self.world.debug.draw_string(location, \u0027o\u0027, color\u003dcarla.Color(r\u003d0, g\u003d255, b\u003d255), life_time\u003d10.0)\n\ndef find_closest_waypoint(self):\n    for point in self.waypoints.values:\n        print(\"w\")\n        print(point[3:].transform)\n\ndef draw_all_waypoints(self):\n    adjacency, waypoints \u003d self.create_graph_and_matrix()\n    for point in waypoints[\u0027transform\u0027]:\n        location \u003d point.location\n        self.world.debug.draw_string(location, \u0027o\u0027, color\u003dcarla.Color(r\u003d0, g\u003d255, b\u003d255), life_time\u003d10.0)\n\n\nif __name__ \u003d\u003d \u0027__main__\u0027:\n    print(\"Start\")\n    print(\"Stop\")\n\n",
      "metadata": {
        "pycharm": {
          "metadata": false,
          "name": "#%%\n",
          "is_executing": false
        }
      }
    },
    {
      "cell_type": "code",
      "execution_count": 40,
      "outputs": [
        {
          "traceback": [
            "\u001b[1;31m---------------------------------------------------------------------------\u001b[0m",
            "\u001b[1;31mAttributeError\u001b[0m                            Traceback (most recent call last)",
            "\u001b[1;32m\u003cipython-input-40-7f2eb9203a63\u003e\u001b[0m in \u001b[0;36m\u003cmodule\u003e\u001b[1;34m\u001b[0m\n\u001b[1;32m----\u003e 1\u001b[1;33m \u001b[1;32mfor\u001b[0m \u001b[0mpoint\u001b[0m \u001b[1;32min\u001b[0m \u001b[0mself\u001b[0m\u001b[1;33m.\u001b[0m\u001b[0mwaypoints\u001b[0m\u001b[1;33m.\u001b[0m\u001b[0mvalues\u001b[0m\u001b[1;33m:\u001b[0m\u001b[1;33m\u001b[0m\u001b[0m\n\u001b[0m\u001b[0;32m      2\u001b[0m     \u001b[0mprint\u001b[0m\u001b[1;33m(\u001b[0m\u001b[1;34m\"w\"\u001b[0m\u001b[1;33m)\u001b[0m\u001b[1;33m\u001b[0m\u001b[0m\n\u001b[0;32m      3\u001b[0m     \u001b[0mprint\u001b[0m\u001b[1;33m(\u001b[0m\u001b[0mpoint\u001b[0m\u001b[1;33m[\u001b[0m\u001b[1;36m3\u001b[0m\u001b[1;33m:\u001b[0m\u001b[1;33m]\u001b[0m\u001b[1;33m.\u001b[0m\u001b[0mtransform\u001b[0m\u001b[1;33m)\u001b[0m\u001b[1;33m\u001b[0m\u001b[0m\n\u001b[0;32m      4\u001b[0m \u001b[1;33m\u001b[0m\u001b[0m\n",
            "\u001b[1;31mAttributeError\u001b[0m: \u0027str\u0027 object has no attribute \u0027waypoints\u0027"
          ],
          "ename": "AttributeError",
          "evalue": "\u0027str\u0027 object has no attribute \u0027waypoints\u0027",
          "output_type": "error"
        }
      ],
      "source": "for point in self.waypoints.values:\n    print(point[3:].transform)\n\n",
      "metadata": {
        "pycharm": {
          "metadata": false,
          "name": "#%%\n",
          "is_executing": false
        }
      }
    }
  ],
  "metadata": {
    "celltoolbar": "Raw Cell Format",
    "kernelspec": {
      "name": "pycharm-f2f3940d",
      "language": "python",
      "display_name": "PyCharm (AutonomousCarla)"
    },
    "language_info": {
      "codemirror_mode": {
        "name": "ipython",
        "version": 3
      },
      "file_extension": ".py",
      "mimetype": "text/x-python",
      "name": "python",
      "nbconvert_exporter": "python",
      "pygments_lexer": "ipython3",
      "version": "3.7.0"
    },
    "stem_cell": {
      "cell_type": "raw",
      "source": "",
      "metadata": {
        "pycharm": {
          "metadata": false
        }
      }
    }
  },
  "nbformat": 4,
  "nbformat_minor": 1
}